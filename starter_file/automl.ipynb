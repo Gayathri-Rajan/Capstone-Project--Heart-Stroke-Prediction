{
 "cells": [
  {
   "cell_type": "markdown",
   "metadata": {},
   "source": [
    "# Automated ML\n",
    "\n",
    "Importing Depedencies required for the project"
   ]
  },
  {
   "cell_type": "code",
   "execution_count": 1,
   "metadata": {
    "gather": {
     "logged": 1598423888013
    },
    "jupyter": {
     "outputs_hidden": false,
     "source_hidden": false
    },
    "nteract": {
     "transient": {
      "deleting": false
     }
    }
   },
   "outputs": [],
   "source": [
    "import os\n",
    "import pandas as pd\n",
    "import numpy as np\n",
    "import json\n",
    "import requests\n",
    "import joblib\n",
    "from sklearn.metrics import confusion_matrix\n",
    "import itertools\n",
    "\n",
    "from azureml.core import Dataset, Workspace, Experiment\n",
    "from azureml.core.compute import ComputeTarget, AmlCompute\n",
    "from azureml.core.compute_target import ComputeTargetException\n",
    "from azureml.widgets import RunDetails\n",
    "from azureml.train.automl import AutoMLConfig\n",
    "\n",
    "from azureml.core.model import InferenceConfig\n",
    "from azureml.core.webservice import AciWebservice, Webservice\n",
    "from azureml.core.model import Model\n",
    "from azureml.core.environment import Environment"
   ]
  },
  {
   "cell_type": "markdown",
   "metadata": {},
   "source": [
    "## Dataset\n",
    "\n",
    "### Overview\n",
    "\n",
    "The Dataset used is \"Stroke prediction Dataset\"\n",
    "\n",
    "According to the World Health Organization (WHO) stroke is the 2nd leading cause of death globally, responsible for approximately 11% of total deaths. This dataset is used to predict whether a patient is likely to get stroke based on the input parameters like gender, age, various diseases, and smoking status. Each row in the data provides relavant information about the patient.\n",
    "\n",
    "Attribute Information\n",
    "\n",
    "1) id: unique identifier\n",
    "\n",
    "2) gender: \"Male\", \"Female\" or \"Other\"\n",
    "\n",
    "3) age: age of the patient\n",
    "\n",
    "4) hypertension: 0 if the patient doesn't have hypertension, 1 if the patient has hypertension\n",
    "\n",
    "5) heart_disease: 0 if the patient doesn't have any heart diseases, 1 if the patient has a heart disease\n",
    "\n",
    "6) ever_married: \"No\" or \"Yes\"\n",
    "\n",
    "7) work_type: \"children\", \"Govt_jov\", \"Never_worked\", \"Private\" or \"Self-employed\"\n",
    "\n",
    "8) Residence_type: \"Rural\" or \"Urban\"\n",
    "\n",
    "9) avg_glucose_level: average glucose level in blood\n",
    "\n",
    "10) bmi: body mass index\n",
    "\n",
    "11) smoking_status: \"formerly smoked\", \"never smoked\", \"smokes\" or \"Unknown\"*\n",
    "\n",
    "12) stroke: 1 if the patient had a stroke or 0 if not\n",
    "\n",
    "In this project, Azure AutoML will be used to make prediction on the death event based on patient's 10clinical features."
   ]
  },
  {
   "cell_type": "code",
   "execution_count": 2,
   "metadata": {
    "gather": {
     "logged": 1598423890461
    },
    "jupyter": {
     "outputs_hidden": false,
     "source_hidden": false
    },
    "nteract": {
     "transient": {
      "deleting": false
     }
    }
   },
   "outputs": [],
   "source": [
    "ws = Workspace.from_config()\n",
    "\n",
    "# choose a name for experiment\n",
    "experiment_name = 'AutoML-run'\n",
    "\n",
    "experiment=Experiment(ws, experiment_name)"
   ]
  },
  {
   "cell_type": "code",
   "execution_count": 3,
   "metadata": {},
   "outputs": [],
   "source": [
    "dataset = Dataset.get_by_name(ws, 'stroke-prediction')"
   ]
  },
  {
   "cell_type": "code",
   "execution_count": 4,
   "metadata": {},
   "outputs": [
    {
     "data": {
      "text/html": [
       "<div>\n",
       "<style scoped>\n",
       "    .dataframe tbody tr th:only-of-type {\n",
       "        vertical-align: middle;\n",
       "    }\n",
       "\n",
       "    .dataframe tbody tr th {\n",
       "        vertical-align: top;\n",
       "    }\n",
       "\n",
       "    .dataframe thead th {\n",
       "        text-align: right;\n",
       "    }\n",
       "</style>\n",
       "<table border=\"1\" class=\"dataframe\">\n",
       "  <thead>\n",
       "    <tr style=\"text-align: right;\">\n",
       "      <th></th>\n",
       "      <th>id</th>\n",
       "      <th>gender</th>\n",
       "      <th>age</th>\n",
       "      <th>hypertension</th>\n",
       "      <th>heart_disease</th>\n",
       "      <th>ever_married</th>\n",
       "      <th>work_type</th>\n",
       "      <th>Residence_type</th>\n",
       "      <th>avg_glucose_level</th>\n",
       "      <th>bmi</th>\n",
       "      <th>smoking_status</th>\n",
       "      <th>stroke</th>\n",
       "    </tr>\n",
       "  </thead>\n",
       "  <tbody>\n",
       "    <tr>\n",
       "      <th>0</th>\n",
       "      <td>9046</td>\n",
       "      <td>Male</td>\n",
       "      <td>67.0</td>\n",
       "      <td>0</td>\n",
       "      <td>1</td>\n",
       "      <td>True</td>\n",
       "      <td>Private</td>\n",
       "      <td>Urban</td>\n",
       "      <td>228.69</td>\n",
       "      <td>36.6</td>\n",
       "      <td>formerly smoked</td>\n",
       "      <td>1</td>\n",
       "    </tr>\n",
       "    <tr>\n",
       "      <th>1</th>\n",
       "      <td>51676</td>\n",
       "      <td>Female</td>\n",
       "      <td>61.0</td>\n",
       "      <td>0</td>\n",
       "      <td>0</td>\n",
       "      <td>True</td>\n",
       "      <td>Self-employed</td>\n",
       "      <td>Rural</td>\n",
       "      <td>202.21</td>\n",
       "      <td>N/A</td>\n",
       "      <td>never smoked</td>\n",
       "      <td>1</td>\n",
       "    </tr>\n",
       "    <tr>\n",
       "      <th>2</th>\n",
       "      <td>31112</td>\n",
       "      <td>Male</td>\n",
       "      <td>80.0</td>\n",
       "      <td>0</td>\n",
       "      <td>1</td>\n",
       "      <td>True</td>\n",
       "      <td>Private</td>\n",
       "      <td>Rural</td>\n",
       "      <td>105.92</td>\n",
       "      <td>32.5</td>\n",
       "      <td>never smoked</td>\n",
       "      <td>1</td>\n",
       "    </tr>\n",
       "    <tr>\n",
       "      <th>3</th>\n",
       "      <td>60182</td>\n",
       "      <td>Female</td>\n",
       "      <td>49.0</td>\n",
       "      <td>0</td>\n",
       "      <td>0</td>\n",
       "      <td>True</td>\n",
       "      <td>Private</td>\n",
       "      <td>Urban</td>\n",
       "      <td>171.23</td>\n",
       "      <td>34.4</td>\n",
       "      <td>smokes</td>\n",
       "      <td>1</td>\n",
       "    </tr>\n",
       "    <tr>\n",
       "      <th>4</th>\n",
       "      <td>1665</td>\n",
       "      <td>Female</td>\n",
       "      <td>79.0</td>\n",
       "      <td>1</td>\n",
       "      <td>0</td>\n",
       "      <td>True</td>\n",
       "      <td>Self-employed</td>\n",
       "      <td>Rural</td>\n",
       "      <td>174.12</td>\n",
       "      <td>24</td>\n",
       "      <td>never smoked</td>\n",
       "      <td>1</td>\n",
       "    </tr>\n",
       "  </tbody>\n",
       "</table>\n",
       "</div>"
      ],
      "text/plain": [
       "      id  gender   age  hypertension  heart_disease  ever_married  \\\n",
       "0   9046    Male  67.0             0              1          True   \n",
       "1  51676  Female  61.0             0              0          True   \n",
       "2  31112    Male  80.0             0              1          True   \n",
       "3  60182  Female  49.0             0              0          True   \n",
       "4   1665  Female  79.0             1              0          True   \n",
       "\n",
       "       work_type Residence_type  avg_glucose_level   bmi   smoking_status  \\\n",
       "0        Private          Urban             228.69  36.6  formerly smoked   \n",
       "1  Self-employed          Rural             202.21   N/A     never smoked   \n",
       "2        Private          Rural             105.92  32.5     never smoked   \n",
       "3        Private          Urban             171.23  34.4           smokes   \n",
       "4  Self-employed          Rural             174.12    24     never smoked   \n",
       "\n",
       "   stroke  \n",
       "0       1  \n",
       "1       1  \n",
       "2       1  \n",
       "3       1  \n",
       "4       1  "
      ]
     },
     "execution_count": 4,
     "metadata": {},
     "output_type": "execute_result"
    }
   ],
   "source": [
    "dataset.take(5).to_pandas_dataframe()"
   ]
  },
  {
   "cell_type": "code",
   "execution_count": 5,
   "metadata": {},
   "outputs": [],
   "source": [
    "data_train, data_test = dataset.random_split(0.9)"
   ]
  },
  {
   "cell_type": "markdown",
   "metadata": {},
   "source": [
    "## Configuring Compute Cluster "
   ]
  },
  {
   "cell_type": "code",
   "execution_count": 6,
   "metadata": {},
   "outputs": [
    {
     "name": "stdout",
     "output_type": "stream",
     "text": [
      "Creating\n",
      "Succeeded\n",
      "AmlCompute wait for completion finished\n",
      "\n",
      "Minimum number of nodes requested have been provisioned\n"
     ]
    }
   ],
   "source": [
    "cpu_cluster_name = \"cpu-cluster\"\n",
    "\n",
    "# Verify that cluster does not exist already\n",
    "try:\n",
    "    compute_target = ComputeTarget(workspace=ws, name=cpu_cluster_name)\n",
    "    print('Found existing cluster, use it.')\n",
    "except ComputeTargetException:\n",
    "    compute_config = AmlCompute.provisioning_configuration(vm_size='STANDARD_D12_V2',\n",
    "                                                           max_nodes=5)\n",
    "    compute_target = ComputeTarget.create(ws, cpu_cluster_name, compute_config)\n",
    "\n",
    "compute_target.wait_for_completion(show_output=True)\n"
   ]
  },
  {
   "cell_type": "markdown",
   "metadata": {},
   "source": [
    "## AutoML Configuration\n",
    "\n"
   ]
  },
  {
   "cell_type": "code",
   "execution_count": 7,
   "metadata": {
    "gather": {
     "logged": 1598429217746
    },
    "jupyter": {
     "outputs_hidden": false,
     "source_hidden": false
    },
    "nteract": {
     "transient": {
      "deleting": false
     }
    }
   },
   "outputs": [],
   "source": [
    "automl_settings = {\n",
    "    \"experiment_timeout_minutes\": 30,\n",
    "    \"max_concurrent_iterations\": 4,\n",
    "    \"primary_metric\" : 'accuracy',\n",
    "    \"n_cross_validations\": 5\n",
    "}\n",
    "automl_config = AutoMLConfig(compute_target=compute_target,\n",
    "                             task = \"classification\",\n",
    "                             training_data=data_train,\n",
    "                             label_column_name=\"stroke\", \n",
    "                             enable_early_stopping= True,\n",
    "                             featurization= 'auto',\n",
    "                             **automl_settings\n",
    "                            )"
   ]
  },
  {
   "cell_type": "code",
   "execution_count": 8,
   "metadata": {
    "gather": {
     "logged": 1598431107951
    },
    "jupyter": {
     "outputs_hidden": false,
     "source_hidden": false
    },
    "nteract": {
     "transient": {
      "deleting": false
     }
    }
   },
   "outputs": [
    {
     "name": "stdout",
     "output_type": "stream",
     "text": [
      "Running on remote.\n",
      "No run_configuration provided, running on cpu-cluster with default configuration\n",
      "Running on remote compute: cpu-cluster\n",
      "Parent Run ID: AutoML_fb8bc4fa-774c-438c-a30c-e39b66933613\n",
      "\n",
      "Current status: FeaturesGeneration. Generating features for the dataset.\n",
      "Current status: DatasetBalancing. Performing class balancing sweeping\n",
      "Current status: ModelSelection. Beginning model selection.\n",
      "\n",
      "****************************************************************************************************\n",
      "DATA GUARDRAILS: \n",
      "\n",
      "TYPE:         Class balancing detection\n",
      "STATUS:       ALERTED\n",
      "DESCRIPTION:  To decrease model bias, please cancel the current run and fix balancing problem.\n",
      "              Learn more about imbalanced data: https://aka.ms/AutomatedMLImbalancedData\n",
      "DETAILS:      Imbalanced data can lead to a falsely perceived positive effect of a model's accuracy because the input data has bias towards one class.\n",
      "+---------------------------------+---------------------------------+--------------------------------------+\n",
      "|Size of the smallest class       |Name/Label of the smallest class |Number of samples in the training data|\n",
      "+=================================+=================================+======================================+\n",
      "|225                              |1                                |4614                                  |\n",
      "+---------------------------------+---------------------------------+--------------------------------------+\n",
      "\n",
      "****************************************************************************************************\n",
      "\n",
      "TYPE:         Missing feature values imputation\n",
      "STATUS:       PASSED\n",
      "DESCRIPTION:  No feature missing values were detected in the training data.\n",
      "              Learn more about missing value imputation: https://aka.ms/AutomatedMLFeaturization\n",
      "\n",
      "****************************************************************************************************\n",
      "\n",
      "TYPE:         High cardinality feature detection\n",
      "STATUS:       DONE\n",
      "DESCRIPTION:  High cardinality features were detected in your inputs and handled.\n",
      "              Learn more about high cardinality feature handling: https://aka.ms/AutomatedMLFeaturization\n",
      "DETAILS:      High cardinality features refer to columns that contain a large percentage of unique values.\n",
      "+---------------------------------+---------------------------------+\n",
      "|Column name                      |Column Content Type              |\n",
      "+=================================+=================================+\n",
      "|bmi                              |categorical_hash                 |\n",
      "+---------------------------------+---------------------------------+\n",
      "\n",
      "****************************************************************************************************\n",
      "\n",
      "****************************************************************************************************\n",
      "ITERATION: The iteration being evaluated.\n",
      "PIPELINE: A summary description of the pipeline being evaluated.\n",
      "DURATION: Time taken for the current iteration.\n",
      "METRIC: The result of computing score on the fitted pipeline.\n",
      "BEST: The best observed score thus far.\n",
      "****************************************************************************************************\n",
      "\n",
      " ITERATION   PIPELINE                                       DURATION      METRIC      BEST\n",
      "         2   MaxAbsScaler RandomForest                      0:00:57       0.9512    0.9512\n",
      "         0   MaxAbsScaler LightGBM                          0:02:12       0.9458    0.9512\n",
      "         4   MaxAbsScaler RandomForest                      0:00:58       0.7269    0.9512\n",
      "         1   MaxAbsScaler XGBoostClassifier                 0:02:20       0.9502    0.9512\n",
      "         3   MaxAbsScaler RandomForest                      0:02:21       0.9512    0.9512\n",
      "         5   MaxAbsScaler RandomForest                      0:00:52       0.5984    0.9512\n",
      "         6   SparseNormalizer XGBoostClassifier             0:00:55       0.9504    0.9512\n",
      "         7   SparseNormalizer XGBoostClassifier             0:00:50       0.9495    0.9512\n",
      "         8   StandardScalerWrapper LightGBM                 0:00:52       0.9512    0.9512\n",
      "        10   MaxAbsScaler GradientBoosting                  0:01:03       0.9512    0.9512\n",
      "        11   StandardScalerWrapper LightGBM                 0:00:55       0.9512    0.9512\n",
      "         9   MaxAbsScaler LightGBM                          0:00:58       0.9512    0.9512\n",
      "        12   MaxAbsScaler LightGBM                          0:01:01       0.9512    0.9512\n",
      "        13   SparseNormalizer XGBoostClassifier             0:00:46       0.9512    0.9512\n",
      "        15   SparseNormalizer LightGBM                      0:00:48       0.9512    0.9512\n",
      "        14   SparseNormalizer XGBoostClassifier             0:00:58       0.9506    0.9512\n",
      "        16   StandardScalerWrapper XGBoostClassifier        0:00:46       0.9512    0.9512\n",
      "        18   StandardScalerWrapper LightGBM                 0:00:46       0.9512    0.9512\n",
      "        17   SparseNormalizer LightGBM                      0:01:08       0.9512    0.9512\n",
      "        19   StandardScalerWrapper XGBoostClassifier        0:00:52       0.9512    0.9512\n",
      "        20   SparseNormalizer XGBoostClassifier             0:00:51       0.9502    0.9512\n",
      "        21   MaxAbsScaler LogisticRegression                0:00:54       0.9452    0.9512\n",
      "        22   MaxAbsScaler LogisticRegression                0:01:00       0.9497    0.9512\n",
      "        23   StandardScalerWrapper ExtremeRandomTrees       0:00:55       0.9512    0.9512\n",
      "        24   SparseNormalizer XGBoostClassifier             0:01:07       0.9493    0.9512\n",
      "        25   MaxAbsScaler RandomForest                      0:00:47       0.9512    0.9512\n",
      "        27   SparseNormalizer LightGBM                      0:00:55       0.9512    0.9512\n",
      "        26   StandardScalerWrapper LightGBM                 0:00:52       0.9512    0.9512\n",
      "        28   SparseNormalizer LightGBM                      0:00:55       0.9512    0.9512\n",
      "        29   StandardScalerWrapper LightGBM                 0:01:00       0.9512    0.9512\n",
      "        30   TruncatedSVDWrapper RandomForest               0:01:01       0.9512    0.9512\n",
      "        31   MaxAbsScaler LightGBM                          0:00:54       0.9512    0.9512\n",
      "        33   SparseNormalizer XGBoostClassifier             0:01:07       0.9454    0.9512\n",
      "        32   SparseNormalizer XGBoostClassifier             0:01:39       0.9454    0.9512\n",
      "        34   StandardScalerWrapper XGBoostClassifier        0:00:56       0.9432    0.9512\n",
      "        35   MaxAbsScaler RandomForest                      0:00:34          nan    0.9512\n",
      "        36    VotingEnsemble                                0:01:21       0.9512    0.9512\n",
      "        37    StackEnsemble                                 0:01:37       0.9512    0.9512\n"
     ]
    }
   ],
   "source": [
    "# TODO: Submit your experiment\n",
    "remote_run = experiment.submit(automl_config, show_output = True)"
   ]
  },
  {
   "cell_type": "markdown",
   "metadata": {},
   "source": [
    "## Run Details\n"
   ]
  },
  {
   "cell_type": "code",
   "execution_count": 9,
   "metadata": {},
   "outputs": [
    {
     "data": {
      "text/html": [
       "<table style=\"width:100%\"><tr><th>Experiment</th><th>Id</th><th>Type</th><th>Status</th><th>Details Page</th><th>Docs Page</th></tr><tr><td>AutoML-run</td><td>AutoML_fb8bc4fa-774c-438c-a30c-e39b66933613</td><td>automl</td><td>Completed</td><td><a href=\"https://ml.azure.com/experiments/AutoML-run/runs/AutoML_fb8bc4fa-774c-438c-a30c-e39b66933613?wsid=/subscriptions/cdbe0b43-92a0-4715-838a-f2648cc7ad21/resourcegroups/aml-quickstarts-138804/workspaces/quick-starts-ws-138804\" target=\"_blank\" rel=\"noopener\">Link to Azure Machine Learning studio</a></td><td><a href=\"https://docs.microsoft.com/en-us/python/api/overview/azure/ml/intro?view=azure-ml-py\" target=\"_blank\" rel=\"noopener\">Link to Documentation</a></td></tr></table>"
      ],
      "text/plain": [
       "Run(Experiment: AutoML-run,\n",
       "Id: AutoML_fb8bc4fa-774c-438c-a30c-e39b66933613,\n",
       "Type: automl,\n",
       "Status: Completed)"
      ]
     },
     "execution_count": 9,
     "metadata": {},
     "output_type": "execute_result"
    }
   ],
   "source": [
    "remote_run"
   ]
  },
  {
   "cell_type": "code",
   "execution_count": 10,
   "metadata": {},
   "outputs": [
    {
     "data": {
      "text/plain": [
       "<bound method _WidgetRunDetailsBase.show of <azureml.widgets._automl._run_details._AutoMLRunDetails object at 0x7ff5685cef98>>"
      ]
     },
     "execution_count": 10,
     "metadata": {},
     "output_type": "execute_result"
    }
   ],
   "source": [
    "RunDetails(remote_run).show"
   ]
  },
  {
   "cell_type": "code",
   "execution_count": 11,
   "metadata": {},
   "outputs": [
    {
     "data": {
      "text/plain": [
       "{'runId': 'AutoML_fb8bc4fa-774c-438c-a30c-e39b66933613',\n",
       " 'target': 'cpu-cluster',\n",
       " 'status': 'Completed',\n",
       " 'startTimeUtc': '2021-02-13T14:56:19.770911Z',\n",
       " 'endTimeUtc': '2021-02-13T15:20:37.285579Z',\n",
       " 'properties': {'num_iterations': '1000',\n",
       "  'training_type': 'TrainFull',\n",
       "  'acquisition_function': 'EI',\n",
       "  'primary_metric': 'accuracy',\n",
       "  'train_split': '0',\n",
       "  'acquisition_parameter': '0',\n",
       "  'num_cross_validation': '5',\n",
       "  'target': 'cpu-cluster',\n",
       "  'AMLSettingsJsonString': '{\"path\":null,\"name\":\"AutoML-run\",\"subscription_id\":\"cdbe0b43-92a0-4715-838a-f2648cc7ad21\",\"resource_group\":\"aml-quickstarts-138804\",\"workspace_name\":\"quick-starts-ws-138804\",\"region\":\"southcentralus\",\"compute_target\":\"cpu-cluster\",\"spark_service\":null,\"azure_service\":\"remote\",\"many_models\":false,\"pipeline_fetch_max_batch_size\":1,\"iterations\":1000,\"primary_metric\":\"accuracy\",\"task_type\":\"classification\",\"data_script\":null,\"validation_size\":0.0,\"n_cross_validations\":5,\"y_min\":null,\"y_max\":null,\"num_classes\":null,\"featurization\":\"auto\",\"_ignore_package_version_incompatibilities\":false,\"is_timeseries\":false,\"max_cores_per_iteration\":1,\"max_concurrent_iterations\":4,\"iteration_timeout_minutes\":null,\"mem_in_mb\":null,\"enforce_time_on_windows\":false,\"experiment_timeout_minutes\":30,\"experiment_exit_score\":null,\"whitelist_models\":null,\"blacklist_algos\":[\"TensorFlowLinearClassifier\",\"TensorFlowDNN\"],\"supported_models\":[\"AveragedPerceptronClassifier\",\"TensorFlowDNN\",\"DecisionTree\",\"BernoulliNaiveBayes\",\"LightGBM\",\"LogisticRegression\",\"ExtremeRandomTrees\",\"RandomForest\",\"KNN\",\"SGD\",\"SVM\",\"GradientBoosting\",\"MultinomialNaiveBayes\",\"XGBoostClassifier\",\"TensorFlowLinearClassifier\",\"LinearSVM\"],\"auto_blacklist\":true,\"blacklist_samples_reached\":false,\"exclude_nan_labels\":true,\"verbosity\":20,\"_debug_log\":\"azureml_automl.log\",\"show_warnings\":false,\"model_explainability\":true,\"service_url\":null,\"sdk_url\":null,\"sdk_packages\":null,\"enable_onnx_compatible_models\":false,\"enable_split_onnx_featurizer_estimator_models\":false,\"vm_type\":\"STANDARD_D12_V2\",\"telemetry_verbosity\":20,\"send_telemetry\":true,\"enable_dnn\":false,\"scenario\":\"SDK-1.13.0\",\"environment_label\":null,\"force_text_dnn\":false,\"enable_feature_sweeping\":true,\"enable_early_stopping\":true,\"early_stopping_n_iters\":10,\"metrics\":null,\"enable_ensembling\":true,\"enable_stack_ensembling\":true,\"ensemble_iterations\":15,\"enable_tf\":false,\"enable_subsampling\":null,\"subsample_seed\":null,\"enable_nimbusml\":false,\"enable_streaming\":false,\"force_streaming\":false,\"track_child_runs\":true,\"allowed_private_models\":[],\"label_column_name\":\"stroke\",\"weight_column_name\":null,\"cv_split_column_names\":null,\"enable_local_managed\":false,\"_local_managed_run_id\":null,\"cost_mode\":1,\"lag_length\":0,\"metric_operation\":\"maximize\",\"preprocess\":true}',\n",
       "  'DataPrepJsonString': '{\\\\\"training_data\\\\\": \\\\\"{\\\\\\\\\\\\\"blocks\\\\\\\\\\\\\": [{\\\\\\\\\\\\\"id\\\\\\\\\\\\\": \\\\\\\\\\\\\"f6569eda-ed9e-476f-ab2e-af615001cfd0\\\\\\\\\\\\\", \\\\\\\\\\\\\"type\\\\\\\\\\\\\": \\\\\\\\\\\\\"Microsoft.DPrep.GetDatastoreFilesBlock\\\\\\\\\\\\\", \\\\\\\\\\\\\"arguments\\\\\\\\\\\\\": {\\\\\\\\\\\\\"datastores\\\\\\\\\\\\\": [{\\\\\\\\\\\\\"datastoreName\\\\\\\\\\\\\": \\\\\\\\\\\\\"workspaceblobstore\\\\\\\\\\\\\", \\\\\\\\\\\\\"path\\\\\\\\\\\\\": \\\\\\\\\\\\\"UI/02-13-2021_025155_UTC/stroke-prediction-dataset.csv\\\\\\\\\\\\\", \\\\\\\\\\\\\"resourceGroup\\\\\\\\\\\\\": \\\\\\\\\\\\\"aml-quickstarts-138804\\\\\\\\\\\\\", \\\\\\\\\\\\\"subscription\\\\\\\\\\\\\": \\\\\\\\\\\\\"cdbe0b43-92a0-4715-838a-f2648cc7ad21\\\\\\\\\\\\\", \\\\\\\\\\\\\"workspaceName\\\\\\\\\\\\\": \\\\\\\\\\\\\"quick-starts-ws-138804\\\\\\\\\\\\\"}]}, \\\\\\\\\\\\\"localData\\\\\\\\\\\\\": {}, \\\\\\\\\\\\\"isEnabled\\\\\\\\\\\\\": true, \\\\\\\\\\\\\"name\\\\\\\\\\\\\": null, \\\\\\\\\\\\\"annotation\\\\\\\\\\\\\": null}, {\\\\\\\\\\\\\"id\\\\\\\\\\\\\": \\\\\\\\\\\\\"77e0daf1-de0a-49d6-9c80-e56c9a4c5a22\\\\\\\\\\\\\", \\\\\\\\\\\\\"type\\\\\\\\\\\\\": \\\\\\\\\\\\\"Microsoft.DPrep.ParseDelimitedBlock\\\\\\\\\\\\\", \\\\\\\\\\\\\"arguments\\\\\\\\\\\\\": {\\\\\\\\\\\\\"columnHeadersMode\\\\\\\\\\\\\": 3, \\\\\\\\\\\\\"fileEncoding\\\\\\\\\\\\\": 0, \\\\\\\\\\\\\"handleQuotedLineBreaks\\\\\\\\\\\\\": false, \\\\\\\\\\\\\"preview\\\\\\\\\\\\\": false, \\\\\\\\\\\\\"separator\\\\\\\\\\\\\": \\\\\\\\\\\\\",\\\\\\\\\\\\\", \\\\\\\\\\\\\"skipRows\\\\\\\\\\\\\": 0, \\\\\\\\\\\\\"skipRowsMode\\\\\\\\\\\\\": 0}, \\\\\\\\\\\\\"localData\\\\\\\\\\\\\": {}, \\\\\\\\\\\\\"isEnabled\\\\\\\\\\\\\": true, \\\\\\\\\\\\\"name\\\\\\\\\\\\\": null, \\\\\\\\\\\\\"annotation\\\\\\\\\\\\\": null}, {\\\\\\\\\\\\\"id\\\\\\\\\\\\\": \\\\\\\\\\\\\"85f9c13c-aa24-4864-b95a-e2f03a2e8a7f\\\\\\\\\\\\\", \\\\\\\\\\\\\"type\\\\\\\\\\\\\": \\\\\\\\\\\\\"Microsoft.DPrep.DropColumnsBlock\\\\\\\\\\\\\", \\\\\\\\\\\\\"arguments\\\\\\\\\\\\\": {\\\\\\\\\\\\\"columns\\\\\\\\\\\\\": {\\\\\\\\\\\\\"type\\\\\\\\\\\\\": 0, \\\\\\\\\\\\\"details\\\\\\\\\\\\\": {\\\\\\\\\\\\\"selectedColumns\\\\\\\\\\\\\": [\\\\\\\\\\\\\"Path\\\\\\\\\\\\\"]}}}, \\\\\\\\\\\\\"localData\\\\\\\\\\\\\": {}, \\\\\\\\\\\\\"isEnabled\\\\\\\\\\\\\": true, \\\\\\\\\\\\\"name\\\\\\\\\\\\\": null, \\\\\\\\\\\\\"annotation\\\\\\\\\\\\\": null}, {\\\\\\\\\\\\\"id\\\\\\\\\\\\\": \\\\\\\\\\\\\"572206ee-e20c-46e8-8850-0928ca3c3344\\\\\\\\\\\\\", \\\\\\\\\\\\\"type\\\\\\\\\\\\\": \\\\\\\\\\\\\"Microsoft.DPrep.SetColumnTypesBlock\\\\\\\\\\\\\", \\\\\\\\\\\\\"arguments\\\\\\\\\\\\\": {\\\\\\\\\\\\\"columnConversion\\\\\\\\\\\\\": [{\\\\\\\\\\\\\"column\\\\\\\\\\\\\": {\\\\\\\\\\\\\"type\\\\\\\\\\\\\": 2, \\\\\\\\\\\\\"details\\\\\\\\\\\\\": {\\\\\\\\\\\\\"selectedColumn\\\\\\\\\\\\\": \\\\\\\\\\\\\"Path\\\\\\\\\\\\\"}}, \\\\\\\\\\\\\"typeProperty\\\\\\\\\\\\\": 0}, {\\\\\\\\\\\\\"column\\\\\\\\\\\\\": {\\\\\\\\\\\\\"type\\\\\\\\\\\\\": 2, \\\\\\\\\\\\\"details\\\\\\\\\\\\\": {\\\\\\\\\\\\\"selectedColumn\\\\\\\\\\\\\": \\\\\\\\\\\\\"id\\\\\\\\\\\\\"}}, \\\\\\\\\\\\\"typeProperty\\\\\\\\\\\\\": 2}, {\\\\\\\\\\\\\"column\\\\\\\\\\\\\": {\\\\\\\\\\\\\"type\\\\\\\\\\\\\": 2, \\\\\\\\\\\\\"details\\\\\\\\\\\\\": {\\\\\\\\\\\\\"selectedColumn\\\\\\\\\\\\\": \\\\\\\\\\\\\"gender\\\\\\\\\\\\\"}}, \\\\\\\\\\\\\"typeProperty\\\\\\\\\\\\\": 0}, {\\\\\\\\\\\\\"column\\\\\\\\\\\\\": {\\\\\\\\\\\\\"type\\\\\\\\\\\\\": 2, \\\\\\\\\\\\\"details\\\\\\\\\\\\\": {\\\\\\\\\\\\\"selectedColumn\\\\\\\\\\\\\": \\\\\\\\\\\\\"age\\\\\\\\\\\\\"}}, \\\\\\\\\\\\\"typeProperty\\\\\\\\\\\\\": 3}, {\\\\\\\\\\\\\"column\\\\\\\\\\\\\": {\\\\\\\\\\\\\"type\\\\\\\\\\\\\": 2, \\\\\\\\\\\\\"details\\\\\\\\\\\\\": {\\\\\\\\\\\\\"selectedColumn\\\\\\\\\\\\\": \\\\\\\\\\\\\"hypertension\\\\\\\\\\\\\"}}, \\\\\\\\\\\\\"typeProperty\\\\\\\\\\\\\": 2}, {\\\\\\\\\\\\\"column\\\\\\\\\\\\\": {\\\\\\\\\\\\\"type\\\\\\\\\\\\\": 2, \\\\\\\\\\\\\"details\\\\\\\\\\\\\": {\\\\\\\\\\\\\"selectedColumn\\\\\\\\\\\\\": \\\\\\\\\\\\\"heart_disease\\\\\\\\\\\\\"}}, \\\\\\\\\\\\\"typeProperty\\\\\\\\\\\\\": 2}, {\\\\\\\\\\\\\"column\\\\\\\\\\\\\": {\\\\\\\\\\\\\"type\\\\\\\\\\\\\": 2, \\\\\\\\\\\\\"details\\\\\\\\\\\\\": {\\\\\\\\\\\\\"selectedColumn\\\\\\\\\\\\\": \\\\\\\\\\\\\"ever_married\\\\\\\\\\\\\"}}, \\\\\\\\\\\\\"typeProperty\\\\\\\\\\\\\": 1}, {\\\\\\\\\\\\\"column\\\\\\\\\\\\\": {\\\\\\\\\\\\\"type\\\\\\\\\\\\\": 2, \\\\\\\\\\\\\"details\\\\\\\\\\\\\": {\\\\\\\\\\\\\"selectedColumn\\\\\\\\\\\\\": \\\\\\\\\\\\\"work_type\\\\\\\\\\\\\"}}, \\\\\\\\\\\\\"typeProperty\\\\\\\\\\\\\": 0}, {\\\\\\\\\\\\\"column\\\\\\\\\\\\\": {\\\\\\\\\\\\\"type\\\\\\\\\\\\\": 2, \\\\\\\\\\\\\"details\\\\\\\\\\\\\": {\\\\\\\\\\\\\"selectedColumn\\\\\\\\\\\\\": \\\\\\\\\\\\\"Residence_type\\\\\\\\\\\\\"}}, \\\\\\\\\\\\\"typeProperty\\\\\\\\\\\\\": 0}, {\\\\\\\\\\\\\"column\\\\\\\\\\\\\": {\\\\\\\\\\\\\"type\\\\\\\\\\\\\": 2, \\\\\\\\\\\\\"details\\\\\\\\\\\\\": {\\\\\\\\\\\\\"selectedColumn\\\\\\\\\\\\\": \\\\\\\\\\\\\"avg_glucose_level\\\\\\\\\\\\\"}}, \\\\\\\\\\\\\"typeProperty\\\\\\\\\\\\\": 3}, {\\\\\\\\\\\\\"column\\\\\\\\\\\\\": {\\\\\\\\\\\\\"type\\\\\\\\\\\\\": 2, \\\\\\\\\\\\\"details\\\\\\\\\\\\\": {\\\\\\\\\\\\\"selectedColumn\\\\\\\\\\\\\": \\\\\\\\\\\\\"bmi\\\\\\\\\\\\\"}}, \\\\\\\\\\\\\"typeProperty\\\\\\\\\\\\\": 0}, {\\\\\\\\\\\\\"column\\\\\\\\\\\\\": {\\\\\\\\\\\\\"type\\\\\\\\\\\\\": 2, \\\\\\\\\\\\\"details\\\\\\\\\\\\\": {\\\\\\\\\\\\\"selectedColumn\\\\\\\\\\\\\": \\\\\\\\\\\\\"smoking_status\\\\\\\\\\\\\"}}, \\\\\\\\\\\\\"typeProperty\\\\\\\\\\\\\": 0}, {\\\\\\\\\\\\\"column\\\\\\\\\\\\\": {\\\\\\\\\\\\\"type\\\\\\\\\\\\\": 2, \\\\\\\\\\\\\"details\\\\\\\\\\\\\": {\\\\\\\\\\\\\"selectedColumn\\\\\\\\\\\\\": \\\\\\\\\\\\\"stroke\\\\\\\\\\\\\"}}, \\\\\\\\\\\\\"typeProperty\\\\\\\\\\\\\": 2}]}, \\\\\\\\\\\\\"localData\\\\\\\\\\\\\": {}, \\\\\\\\\\\\\"isEnabled\\\\\\\\\\\\\": true, \\\\\\\\\\\\\"name\\\\\\\\\\\\\": null, \\\\\\\\\\\\\"annotation\\\\\\\\\\\\\": null}, {\\\\\\\\\\\\\"id\\\\\\\\\\\\\": \\\\\\\\\\\\\"2acd3048-9986-4c29-b774-729271d0abe7\\\\\\\\\\\\\", \\\\\\\\\\\\\"type\\\\\\\\\\\\\": \\\\\\\\\\\\\"Microsoft.DPrep.TakeSampleBlock\\\\\\\\\\\\\", \\\\\\\\\\\\\"arguments\\\\\\\\\\\\\": {\\\\\\\\\\\\\"probability\\\\\\\\\\\\\": 0.9, \\\\\\\\\\\\\"probabilityLowerBound\\\\\\\\\\\\\": 0.0, \\\\\\\\\\\\\"seed\\\\\\\\\\\\\": 975867747}, \\\\\\\\\\\\\"localData\\\\\\\\\\\\\": {}, \\\\\\\\\\\\\"isEnabled\\\\\\\\\\\\\": true, \\\\\\\\\\\\\"name\\\\\\\\\\\\\": null, \\\\\\\\\\\\\"annotation\\\\\\\\\\\\\": null}], \\\\\\\\\\\\\"inspectors\\\\\\\\\\\\\": [], \\\\\\\\\\\\\"meta\\\\\\\\\\\\\": {\\\\\\\\\\\\\"savedDatasetId\\\\\\\\\\\\\": \\\\\\\\\\\\\"399f0c41-f97c-4d4c-a543-2cac3a4fceb6\\\\\\\\\\\\\", \\\\\\\\\\\\\"datasetType\\\\\\\\\\\\\": \\\\\\\\\\\\\"tabular\\\\\\\\\\\\\", \\\\\\\\\\\\\"subscriptionId\\\\\\\\\\\\\": \\\\\\\\\\\\\"cdbe0b43-92a0-4715-838a-f2648cc7ad21\\\\\\\\\\\\\", \\\\\\\\\\\\\"workspaceId\\\\\\\\\\\\\": \\\\\\\\\\\\\"036ac9d0-23b5-41f6-8b15-d73c1d862663\\\\\\\\\\\\\", \\\\\\\\\\\\\"workspaceLocation\\\\\\\\\\\\\": \\\\\\\\\\\\\"southcentralus\\\\\\\\\\\\\"}}\\\\\", \\\\\"activities\\\\\": 0}',\n",
       "  'EnableSubsampling': None,\n",
       "  'runTemplate': 'AutoML',\n",
       "  'azureml.runsource': 'automl',\n",
       "  'display_task_type': 'classification',\n",
       "  'dependencies_versions': '{\"azureml-widgets\": \"1.20.0\", \"azureml-train\": \"1.20.0\", \"azureml-train-restclients-hyperdrive\": \"1.20.0\", \"azureml-train-core\": \"1.20.0\", \"azureml-train-automl\": \"1.20.0\", \"azureml-train-automl-runtime\": \"1.20.0\", \"azureml-train-automl-client\": \"1.20.0\", \"azureml-tensorboard\": \"1.20.0\", \"azureml-telemetry\": \"1.20.0\", \"azureml-sdk\": \"1.20.0\", \"azureml-samples\": \"0+unknown\", \"azureml-pipeline\": \"1.20.0\", \"azureml-pipeline-steps\": \"1.20.0\", \"azureml-pipeline-core\": \"1.20.0\", \"azureml-opendatasets\": \"1.20.0\", \"azureml-model-management-sdk\": \"1.0.1b6.post1\", \"azureml-mlflow\": \"1.20.0.post1\", \"azureml-interpret\": \"1.20.0\", \"azureml-explain-model\": \"1.20.0\", \"azureml-defaults\": \"1.20.0\", \"azureml-dataset-runtime\": \"1.20.0\", \"azureml-dataprep\": \"2.7.3\", \"azureml-dataprep-rslex\": \"1.5.0\", \"azureml-dataprep-native\": \"27.0.0\", \"azureml-datadrift\": \"1.20.0\", \"azureml-core\": \"1.20.0\", \"azureml-contrib-services\": \"1.20.0\", \"azureml-contrib-server\": \"1.20.0\", \"azureml-contrib-reinforcementlearning\": \"1.20.0\", \"azureml-contrib-pipeline-steps\": \"1.20.0\", \"azureml-contrib-notebook\": \"1.20.0\", \"azureml-contrib-interpret\": \"1.20.0\", \"azureml-contrib-gbdt\": \"1.20.0\", \"azureml-contrib-fairness\": \"1.20.0\", \"azureml-contrib-dataset\": \"1.20.0\", \"azureml-cli-common\": \"1.20.0\", \"azureml-automl-runtime\": \"1.20.0\", \"azureml-automl-core\": \"1.20.0\", \"azureml-accel-models\": \"1.20.0\"}',\n",
       "  '_aml_system_scenario_identification': 'Remote.Parent',\n",
       "  'ClientType': 'SDK',\n",
       "  'environment_cpu_name': 'AzureML-AutoML',\n",
       "  'environment_cpu_label': 'prod',\n",
       "  'environment_gpu_name': 'AzureML-AutoML-GPU',\n",
       "  'environment_gpu_label': 'prod',\n",
       "  'root_attribution': 'automl',\n",
       "  'attribution': 'AutoML',\n",
       "  'Orchestrator': 'AutoML',\n",
       "  'CancelUri': 'https://southcentralus.experiments.azureml.net/jasmine/v1.0/subscriptions/cdbe0b43-92a0-4715-838a-f2648cc7ad21/resourceGroups/aml-quickstarts-138804/providers/Microsoft.MachineLearningServices/workspaces/quick-starts-ws-138804/experimentids/be51b261-557a-49cc-9b5c-8fdd215806bd/cancel/AutoML_fb8bc4fa-774c-438c-a30c-e39b66933613',\n",
       "  'ClientSdkVersion': '1.21.0',\n",
       "  'snapshotId': '00000000-0000-0000-0000-000000000000',\n",
       "  'SetupRunId': 'AutoML_fb8bc4fa-774c-438c-a30c-e39b66933613_setup',\n",
       "  'SetupRunContainerId': 'dcid.AutoML_fb8bc4fa-774c-438c-a30c-e39b66933613_setup',\n",
       "  'FeaturizationRunJsonPath': 'featurizer_container.json',\n",
       "  'FeaturizationRunId': 'AutoML_fb8bc4fa-774c-438c-a30c-e39b66933613_featurize',\n",
       "  'ProblemInfoJsonString': '{\"dataset_num_categorical\": 0, \"is_sparse\": true, \"subsampling\": false, \"dataset_classes\": 2, \"dataset_features\": 275, \"dataset_samples\": 4614, \"single_frequency_class_detected\": false}',\n",
       "  'ModelExplainRunId': 'AutoML_fb8bc4fa-774c-438c-a30c-e39b66933613_ModelExplain'},\n",
       " 'inputDatasets': [{'dataset': {'id': '399f0c41-f97c-4d4c-a543-2cac3a4fceb6'}, 'consumptionDetails': {'type': 'RunInput', 'inputName': 'training_data', 'mechanism': 'Direct'}}],\n",
       " 'outputDatasets': [],\n",
       " 'logFiles': {},\n",
       " 'submittedBy': 'ODL_User 138804'}"
      ]
     },
     "execution_count": 11,
     "metadata": {},
     "output_type": "execute_result"
    }
   ],
   "source": [
    "remote_run.wait_for_completion()"
   ]
  },
  {
   "cell_type": "markdown",
   "metadata": {},
   "source": [
    "## Best Model\n",
    "\n",
    "TODO: In the cell below, get the best model from the automl experiments and display all the properties of the model.\n",
    "\n"
   ]
  },
  {
   "cell_type": "code",
   "execution_count": 12,
   "metadata": {
    "gather": {
     "logged": 1598431425670
    },
    "jupyter": {
     "outputs_hidden": false,
     "source_hidden": false
    },
    "nteract": {
     "transient": {
      "deleting": false
     }
    }
   },
   "outputs": [
    {
     "name": "stderr",
     "output_type": "stream",
     "text": [
      "WARNING:root:The version of the SDK does not match the version the model was trained on.\n",
      "WARNING:root:The consistency in the result may not be guaranteed.\n",
      "WARNING:root:Package:azureml-automl-core, training version:1.21.0, current version:1.20.0\n",
      "Package:azureml-automl-runtime, training version:1.21.0, current version:1.20.0\n",
      "Package:azureml-core, training version:1.21.0.post1, current version:1.20.0\n",
      "Package:azureml-dataprep, training version:2.8.2, current version:2.7.3\n",
      "Package:azureml-dataprep-native, training version:28.0.0, current version:27.0.0\n",
      "Package:azureml-dataprep-rslex, training version:1.6.0, current version:1.5.0\n",
      "Package:azureml-dataset-runtime, training version:1.21.0, current version:1.20.0\n",
      "Package:azureml-defaults, training version:1.21.0, current version:1.20.0\n",
      "Package:azureml-interpret, training version:1.21.0, current version:1.20.0\n",
      "Package:azureml-pipeline-core, training version:1.21.0, current version:1.20.0\n",
      "Package:azureml-telemetry, training version:1.21.0, current version:1.20.0\n",
      "Package:azureml-train-automl-client, training version:1.21.0, current version:1.20.0\n",
      "Package:azureml-train-automl-runtime, training version:1.21.0, current version:1.20.0\n",
      "WARNING:root:Please ensure the version of your local conda dependencies match the version on which your model was trained in order to properly retrieve your model.\n"
     ]
    }
   ],
   "source": [
    "best_run, fitted_model = remote_run.get_output()\n",
    "best_run_metrics = best_run.get_metrics()"
   ]
  },
  {
   "cell_type": "code",
   "execution_count": 13,
   "metadata": {},
   "outputs": [
    {
     "data": {
      "text/html": [
       "<table style=\"width:100%\"><tr><th>Experiment</th><th>Id</th><th>Type</th><th>Status</th><th>Details Page</th><th>Docs Page</th></tr><tr><td>AutoML-run</td><td>AutoML_fb8bc4fa-774c-438c-a30c-e39b66933613_37</td><td>azureml.scriptrun</td><td>Completed</td><td><a href=\"https://ml.azure.com/experiments/AutoML-run/runs/AutoML_fb8bc4fa-774c-438c-a30c-e39b66933613_37?wsid=/subscriptions/cdbe0b43-92a0-4715-838a-f2648cc7ad21/resourcegroups/aml-quickstarts-138804/workspaces/quick-starts-ws-138804\" target=\"_blank\" rel=\"noopener\">Link to Azure Machine Learning studio</a></td><td><a href=\"https://docs.microsoft.com/en-us/python/api/azureml-core/azureml.core.run.Run?view=azure-ml-py\" target=\"_blank\" rel=\"noopener\">Link to Documentation</a></td></tr></table>"
      ],
      "text/plain": [
       "Run(Experiment: AutoML-run,\n",
       "Id: AutoML_fb8bc4fa-774c-438c-a30c-e39b66933613_37,\n",
       "Type: azureml.scriptrun,\n",
       "Status: Completed)"
      ]
     },
     "execution_count": 13,
     "metadata": {},
     "output_type": "execute_result"
    }
   ],
   "source": [
    "best_run"
   ]
  },
  {
   "cell_type": "code",
   "execution_count": 14,
   "metadata": {},
   "outputs": [
    {
     "data": {
      "text/plain": [
       "Pipeline(memory=None,\n",
       "         steps=[('datatransformer',\n",
       "                 DataTransformer(enable_dnn=None, enable_feature_sweeping=None,\n",
       "                                 feature_sweeping_config=None,\n",
       "                                 feature_sweeping_timeout=None,\n",
       "                                 featurization_config=None, force_text_dnn=None,\n",
       "                                 is_cross_validation=None,\n",
       "                                 is_onnx_compatible=None, logger=None,\n",
       "                                 observer=None, task=None, working_dir=None)),\n",
       "                ('stackensembleclassifier',\n",
       "                 StackE...\n",
       "                                         meta_learner=LogisticRegressionCV(Cs=10,\n",
       "                                                                           class_weight=None,\n",
       "                                                                           cv=None,\n",
       "                                                                           dual=False,\n",
       "                                                                           fit_intercept=True,\n",
       "                                                                           intercept_scaling=1.0,\n",
       "                                                                           l1_ratios=None,\n",
       "                                                                           max_iter=100,\n",
       "                                                                           multi_class='auto',\n",
       "                                                                           n_jobs=None,\n",
       "                                                                           penalty='l2',\n",
       "                                                                           random_state=None,\n",
       "                                                                           refit=True,\n",
       "                                                                           scoring=<azureml.automl.runtime.stack_ensemble_base.Scorer object at 0x7ff497e107b8>,\n",
       "                                                                           solver='lbfgs',\n",
       "                                                                           tol=0.0001,\n",
       "                                                                           verbose=0),\n",
       "                                         training_cv_folds=5))],\n",
       "         verbose=False)"
      ]
     },
     "execution_count": 14,
     "metadata": {},
     "output_type": "execute_result"
    }
   ],
   "source": [
    "fitted_model\n"
   ]
  },
  {
   "cell_type": "code",
   "execution_count": 15,
   "metadata": {
    "gather": {
     "logged": 1598431426111
    },
    "jupyter": {
     "outputs_hidden": false,
     "source_hidden": false
    },
    "nteract": {
     "transient": {
      "deleting": false
     }
    }
   },
   "outputs": [
    {
     "name": "stdout",
     "output_type": "stream",
     "text": [
      "Best Run Id:  AutoML_fb8bc4fa-774c-438c-a30c-e39b66933613_37\n",
      "\n",
      " Accuracy: 0.9512372415705647\n",
      "StackEnsembleClassifier(base_learners=[('31',\n",
      "                                        Pipeline(memory=None,\n",
      "                                                 steps=[('maxabsscaler',\n",
      "                                                         MaxAbsScaler(copy=True)),\n",
      "                                                        ('lightgbmclassifier',\n",
      "                                                         LightGBMClassifier(boosting_type='goss',\n",
      "                                                                            class_weight=None,\n",
      "                                                                            colsample_bytree=0.5944444444444444,\n",
      "                                                                            importance_type='split',\n",
      "                                                                            learning_rate=0.04211105263157895,\n",
      "                                                                            max_bin=330,\n",
      "                                                                            max_depth=4,\n",
      "                                                                            min_child_samples=176,\n",
      "                                                                            min_child_weight...\n",
      "                        meta_learner=LogisticRegressionCV(Cs=10,\n",
      "                                                          class_weight=None,\n",
      "                                                          cv=None, dual=False,\n",
      "                                                          fit_intercept=True,\n",
      "                                                          intercept_scaling=1.0,\n",
      "                                                          l1_ratios=None,\n",
      "                                                          max_iter=100,\n",
      "                                                          multi_class='auto',\n",
      "                                                          n_jobs=None,\n",
      "                                                          penalty='l2',\n",
      "                                                          random_state=None,\n",
      "                                                          refit=True,\n",
      "                                                          scoring=<azureml.automl.runtime.stack_ensemble_base.Scorer object at 0x7ff497e107b8>,\n",
      "                                                          solver='lbfgs',\n",
      "                                                          tol=0.0001,\n",
      "                                                          verbose=0),\n",
      "                        training_cv_folds=5)\n",
      "{'_aml_system_azureml.automlComponent': 'AutoML', '_aml_system_ComputeTargetStatus': '{\"AllocationState\":\"steady\",\"PreparingNodeCount\":0,\"RunningNodeCount\":4,\"CurrentNodeCount\":5}', 'ensembled_iterations': '[31, 30, 29, 28, 26]', 'ensembled_algorithms': \"['LightGBM', 'RandomForest', 'LightGBM', 'LightGBM', 'LightGBM']\", 'ensemble_weights': '[0.2, 0.2, 0.2, 0.2, 0.2]', 'best_individual_pipeline_score': '0.9512372415705647', 'best_individual_iteration': '31', '_aml_system_automl_is_child_run_end_telemetry_event_logged': 'True'}\n"
     ]
    }
   ],
   "source": [
    "print('Best Run Id: ', best_run.id)\n",
    "print('\\n Accuracy:', best_run_metrics['accuracy'])\n",
    "print(fitted_model._final_estimator)\n",
    "print(best_run.get_tags())"
   ]
  },
  {
   "cell_type": "code",
   "execution_count": 16,
   "metadata": {},
   "outputs": [
    {
     "data": {
      "text/plain": [
       "'AutoMLfb8bc4fa737'"
      ]
     },
     "execution_count": 16,
     "metadata": {},
     "output_type": "execute_result"
    }
   ],
   "source": [
    "os.makedirs('./outputs', exist_ok=True)\n",
    "\n",
    "joblib.dump(fitted_model, filename='outputs/automl.joblib')\n",
    "\n",
    "model_name = best_run.properties['model_name']\n",
    "model_name"
   ]
  },
  {
   "cell_type": "code",
   "execution_count": 25,
   "metadata": {},
   "outputs": [],
   "source": [
    "from azureml.automl.core.shared import constants \n",
    "env = best_run.get_environment()\n",
    "\n",
    "script_file = 'score.py'\n",
    "\n",
    "best_run.download_file('outputs/scoring_file_v_1_0_0.py', script_file)\n",
    "best_run.download_file(constants.CONDA_ENV_FILE_PATH, 'env.yml')"
   ]
  },
  {
   "cell_type": "markdown",
   "metadata": {},
   "source": [
    "## Model Deployment\n",
    "\n",
    "Remember you have to deploy only one of the two models you trained.. Perform the steps in the rest of this notebook only if you wish to deploy this model.\n",
    "\n",
    "TODO: In the cell below, register the model, create an inference config and deploy the model as a web service."
   ]
  },
  {
   "cell_type": "code",
   "execution_count": 26,
   "metadata": {
    "gather": {
     "logged": 1598431435189
    },
    "jupyter": {
     "outputs_hidden": false,
     "source_hidden": false
    },
    "nteract": {
     "transient": {
      "deleting": false
     }
    }
   },
   "outputs": [],
   "source": [
    "#Register the fitted model\n",
    "model = remote_run.register_model(model_name = model_name,\n",
    "                                  description = 'AutoML model')"
   ]
  },
  {
   "cell_type": "code",
   "execution_count": 30,
   "metadata": {},
   "outputs": [
    {
     "name": "stdout",
     "output_type": "stream",
     "text": [
      "stroke-prediction2\n"
     ]
    }
   ],
   "source": [
    "inference_config = InferenceConfig(entry_script = script_file, environment = env)\n",
    "\n",
    "aci_config = AciWebservice.deploy_configuration(cpu_cores = 1, \n",
    "                                                memory_gb = 1, \n",
    "                                                enable_app_insights = True,\n",
    "                                                auth_enabled = True,\n",
    "                                               description = 'Predict whether person had stroke or not')\n",
    "                                            \n",
    "\n",
    "aci_service_name = 'stroke-prediction2'\n",
    "print(aci_service_name)"
   ]
  },
  {
   "cell_type": "code",
   "execution_count": 31,
   "metadata": {},
   "outputs": [
    {
     "name": "stdout",
     "output_type": "stream",
     "text": [
      "Tips: You can try get_logs(): https://aka.ms/debugimage#dockerlog or local deployment: https://aka.ms/debugimage#debug-locally to debug if deployment takes longer than 10 minutes.\n",
      "Running........................................\n",
      "Succeeded\n",
      "ACI service creation operation finished, operation \"Succeeded\"\n",
      "State: Healthy\n",
      "Scoring URI: http://04580459-2f0a-475f-93e9-718991121d05.southcentralus.azurecontainer.io/score\n"
     ]
    }
   ],
   "source": [
    "service = Model.deploy(ws, aci_service_name, [model], inference_config, aci_config)\n",
    "service.wait_for_deployment(True)\n",
    "print(\"State: \" + service.state)\n",
    "print(\"Scoring URI: \" + service.scoring_uri)"
   ]
  },
  {
   "cell_type": "code",
   "execution_count": 32,
   "metadata": {},
   "outputs": [
    {
     "name": "stdout",
     "output_type": "stream",
     "text": [
      "State: Healthy\n",
      "Scoring URI: http://04580459-2f0a-475f-93e9-718991121d05.southcentralus.azurecontainer.io/score\n",
      "Keys: 9qcgCTJk82rgEpHadVyOjwiGN9FsYmGY\n",
      "Swagger URI: http://04580459-2f0a-475f-93e9-718991121d05.southcentralus.azurecontainer.io/swagger.json\n"
     ]
    }
   ],
   "source": [
    "print(\"State: \" + service.state)\n",
    "print(\"Scoring URI: \" + service.scoring_uri)\n",
    "print(\"Keys: \" + service.get_keys()[0])\n",
    "print(\"Swagger URI: \" + service.swagger_uri)"
   ]
  },
  {
   "cell_type": "markdown",
   "metadata": {
    "collapsed": true,
    "gather": {
     "logged": 1598431657736
    },
    "jupyter": {
     "outputs_hidden": false,
     "source_hidden": false
    },
    "nteract": {
     "transient": {
      "deleting": false
     }
    }
   },
   "source": [
    "TODO: In the cell below, send a request to the web service you deployed to test it."
   ]
  },
  {
   "cell_type": "code",
   "execution_count": 45,
   "metadata": {
    "gather": {
     "logged": 1598432707604
    },
    "jupyter": {
     "outputs_hidden": false,
     "source_hidden": false
    },
    "nteract": {
     "transient": {
      "deleting": false
     }
    },
    "scrolled": true
   },
   "outputs": [
    {
     "name": "stdout",
     "output_type": "stream",
     "text": [
      "{\"result\": [0, 0]}\n"
     ]
    }
   ],
   "source": [
    "\n",
    "%run endpoint.py"
   ]
  },
  {
   "cell_type": "code",
   "execution_count": 48,
   "metadata": {},
   "outputs": [
    {
     "name": "stdout",
     "output_type": "stream",
     "text": [
      "{\"data\": [{\"id\": 47585, \"gender\": \"Female\", \"age\": 31.0, \"hypertension\": 0, \"heart_disease\": 0, \"ever_married\": false, \"work_type\": \"Self-employed\", \"Residence_type\": \"Urban\", \"avg_glucose_level\": 62.68, \"bmi\": \"35.8\", \"smoking_status\": \"never smoked\"}, {\"id\": 32257, \"gender\": \"Female\", \"age\": 47.0, \"hypertension\": 0, \"heart_disease\": 0, \"ever_married\": true, \"work_type\": \"Private\", \"Residence_type\": \"Urban\", \"avg_glucose_level\": 210.95, \"bmi\": \"50.1\", \"smoking_status\": \"Unknown\"}, {\"id\": 24246, \"gender\": \"Male\", \"age\": 7.0, \"hypertension\": 0, \"heart_disease\": 0, \"ever_married\": false, \"work_type\": \"children\", \"Residence_type\": \"Urban\", \"avg_glucose_level\": 77.76, \"bmi\": \"18.1\", \"smoking_status\": \"Unknown\"}]}\n"
     ]
    }
   ],
   "source": [
    "data_test = data_test.dropna()\n",
    "data_sample = data_test.sample(3)\n",
    "y_true = data_sample.pop('stroke')\n",
    "sample_json = json.dumps({'data':data_sample.to_dict(orient='records')})\n",
    "print(sample_json)"
   ]
  },
  {
   "cell_type": "code",
   "execution_count": 49,
   "metadata": {},
   "outputs": [
    {
     "name": "stdout",
     "output_type": "stream",
     "text": [
      "Prediction:  {\"result\": [0, 0, 0]}\n",
      "True Values:  [0 0 0]\n"
     ]
    }
   ],
   "source": [
    "output = service.run(sample_json)\n",
    "print('Prediction: ', output)\n",
    "print('True Values: ', y_true.values)"
   ]
  },
  {
   "cell_type": "code",
   "execution_count": 50,
   "metadata": {},
   "outputs": [
    {
     "data": {
      "text/plain": [
       "'2021-02-13T16:09:38,172266233+00:00 - gunicorn/run \\n2021-02-13T16:09:38,173041585+00:00 - iot-server/run \\n2021-02-13T16:09:38,173909543+00:00 - nginx/run \\n/usr/sbin/nginx: /azureml-envs/azureml_20a8278aa8b20dd48cc50f56a6d2586c/lib/libcrypto.so.1.0.0: no version information available (required by /usr/sbin/nginx)\\n/usr/sbin/nginx: /azureml-envs/azureml_20a8278aa8b20dd48cc50f56a6d2586c/lib/libcrypto.so.1.0.0: no version information available (required by /usr/sbin/nginx)\\n/usr/sbin/nginx: /azureml-envs/azureml_20a8278aa8b20dd48cc50f56a6d2586c/lib/libssl.so.1.0.0: no version information available (required by /usr/sbin/nginx)\\n/usr/sbin/nginx: /azureml-envs/azureml_20a8278aa8b20dd48cc50f56a6d2586c/lib/libssl.so.1.0.0: no version information available (required by /usr/sbin/nginx)\\n/usr/sbin/nginx: /azureml-envs/azureml_20a8278aa8b20dd48cc50f56a6d2586c/lib/libssl.so.1.0.0: no version information available (required by /usr/sbin/nginx)\\n2021-02-13T16:09:38,182736431+00:00 - rsyslog/run \\nrsyslogd: /azureml-envs/azureml_20a8278aa8b20dd48cc50f56a6d2586c/lib/libuuid.so.1: no version information available (required by rsyslogd)\\nEdgeHubConnectionString and IOTEDGE_IOTHUBHOSTNAME are not set. Exiting...\\n2021-02-13T16:09:38,279031453+00:00 - iot-server/finish 1 0\\n2021-02-13T16:09:38,280168529+00:00 - Exit code 1 is normal. Not restarting iot-server.\\nStarting gunicorn 19.9.0\\nListening at: http://127.0.0.1:31311 (11)\\nUsing worker: sync\\nworker timeout is set to 300\\nBooting worker with pid: 42\\nSPARK_HOME not set. Skipping PySpark Initialization.\\nGenerating new fontManager, this may take some time...\\nInitializing logger\\n2021-02-13 16:09:39,294 | root | INFO | Starting up app insights client\\n2021-02-13 16:09:39,294 | root | INFO | Starting up request id generator\\n2021-02-13 16:09:39,294 | root | INFO | Starting up app insight hooks\\n2021-02-13 16:09:39,294 | root | INFO | Invoking user\\'s init function\\n2021-02-13 16:09:41,758 | root | INFO | Users\\'s init has completed successfully\\n2021-02-13 16:09:41,761 | root | INFO | Skipping middleware: dbg_model_info as it\\'s not enabled.\\n2021-02-13 16:09:41,761 | root | INFO | Skipping middleware: dbg_resource_usage as it\\'s not enabled.\\n2021-02-13 16:09:41,762 | root | INFO | Scoring timeout is found from os.environ: 60000 ms\\n2021-02-13 16:09:52,736 | root | INFO | 200\\n127.0.0.1 - - [13/Feb/2021:16:09:52 +0000] \"GET /swagger.json HTTP/1.0\" 200 2704 \"-\" \"Go-http-client/1.1\"\\n2021-02-13 16:09:57,375 | root | INFO | 200\\n127.0.0.1 - - [13/Feb/2021:16:09:57 +0000] \"GET /swagger.json HTTP/1.0\" 200 2704 \"-\" \"Go-http-client/1.1\"\\n2021-02-13 16:11:39,701 | root | INFO | 200\\n127.0.0.1 - - [13/Feb/2021:16:11:39 +0000] \"GET /swagger.json HTTP/1.0\" 200 2704 \"-\" \"Go-http-client/1.1\"\\n2021-02-13 16:11:40,097 | root | INFO | 200\\n127.0.0.1 - - [13/Feb/2021:16:11:40 +0000] \"GET /swagger.json HTTP/1.0\" 200 2704 \"-\" \"Go-http-client/1.1\"\\n2021-02-13 16:12:03,963 | root | INFO | 200\\n127.0.0.1 - - [13/Feb/2021:16:12:03 +0000] \"GET /swagger.json HTTP/1.0\" 200 2704 \"-\" \"Go-http-client/1.1\"\\n2021-02-13 16:12:04,272 | root | INFO | 200\\n127.0.0.1 - - [13/Feb/2021:16:12:04 +0000] \"GET /swagger.json HTTP/1.0\" 200 2704 \"-\" \"Go-http-client/1.1\"\\n2021-02-13 16:12:29,824 | root | INFO | Validation Request Content-Type\\n2021-02-13 16:12:29,825 | root | INFO | Scoring Timer is set to 60.0 seconds\\n2021-02-13 16:12:29,839 | root | ERROR | Encountered Exception: Traceback (most recent call last):\\n  File \"/var/azureml-server/synchronous/routes.py\", line 64, in run_scoring\\n    response = invoke_user_with_timer(service_input, request_headers)\\n  File \"/var/azureml-server/synchronous/routes.py\", line 97, in invoke_user_with_timer\\n    result = user_main.run(**params)\\n  File \"/azureml-envs/azureml_20a8278aa8b20dd48cc50f56a6d2586c/lib/python3.6/site-packages/wrapt/wrappers.py\", line 564, in __call__\\n    args, kwargs)\\n  File \"/azureml-envs/azureml_20a8278aa8b20dd48cc50f56a6d2586c/lib/python3.6/site-packages/inference_schema/schema_decorators.py\", line 57, in decorator_input\\n    kwargs[param_name] = _deserialize_input_argument(kwargs[param_name], param_type, param_name)\\n  File \"/azureml-envs/azureml_20a8278aa8b20dd48cc50f56a6d2586c/lib/python3.6/site-packages/inference_schema/schema_decorators.py\", line 285, in _deserialize_input_argument\\n    input_data = param_type.deserialize_input(input_data)\\n  File \"/azureml-envs/azureml_20a8278aa8b20dd48cc50f56a6d2586c/lib/python3.6/site-packages/inference_schema/parameter_types/pandas_parameter_type.py\", line 79, in deserialize_input\\n    data_frame.shape[dim], dim, expected_shape[dim]))\\nValueError: Invalid input data frame: data frame has size 10 on dimension #1, while expected value is 11\\n\\nDuring handling of the above exception, another exception occurred:\\n\\nTraceback (most recent call last):\\n  File \"/azureml-envs/azureml_20a8278aa8b20dd48cc50f56a6d2586c/lib/python3.6/site-packages/flask/app.py\", line 1832, in full_dispatch_request\\n    rv = self.dispatch_request()\\n  File \"/azureml-envs/azureml_20a8278aa8b20dd48cc50f56a6d2586c/lib/python3.6/site-packages/flask/app.py\", line 1818, in dispatch_request\\n    return self.view_functions[rule.endpoint](**req.view_args)\\n  File \"/var/azureml-server/synchronous/routes.py\", line 43, in score_realtime\\n    return run_scoring(service_input, request.headers, request.environ.get(\\'REQUEST_ID\\', \\'00000000-0000-0000-0000-000000000000\\'))\\n  File \"/var/azureml-server/synchronous/routes.py\", line 77, in run_scoring\\n    raise RunFunctionException(str(exc))\\nrun_function_exception.RunFunctionException\\n\\n2021-02-13 16:12:29,839 | root | INFO | 500\\n127.0.0.1 - - [13/Feb/2021:16:12:29 +0000] \"POST /score HTTP/1.0\" 500 92 \"-\" \"python-requests/2.25.1\"\\n2021-02-13 16:12:54,651 | root | INFO | Validation Request Content-Type\\n2021-02-13 16:12:54,652 | root | INFO | Scoring Timer is set to 60.0 seconds\\n2021-02-13 16:12:54,739 | root | INFO | 200\\n127.0.0.1 - - [13/Feb/2021:16:12:54 +0000] \"POST /score HTTP/1.0\" 200 25 \"-\" \"python-requests/2.25.1\"\\n2021-02-13 16:14:02,262 | root | INFO | Validation Request Content-Type\\n2021-02-13 16:14:02,263 | root | INFO | Scoring Timer is set to 60.0 seconds\\n2021-02-13 16:14:02,271 | root | ERROR | Encountered Exception: Traceback (most recent call last):\\n  File \"/var/azureml-server/synchronous/routes.py\", line 64, in run_scoring\\n    response = invoke_user_with_timer(service_input, request_headers)\\n  File \"/var/azureml-server/synchronous/routes.py\", line 97, in invoke_user_with_timer\\n    result = user_main.run(**params)\\n  File \"/azureml-envs/azureml_20a8278aa8b20dd48cc50f56a6d2586c/lib/python3.6/site-packages/wrapt/wrappers.py\", line 564, in __call__\\n    args, kwargs)\\n  File \"/azureml-envs/azureml_20a8278aa8b20dd48cc50f56a6d2586c/lib/python3.6/site-packages/inference_schema/schema_decorators.py\", line 57, in decorator_input\\n    kwargs[param_name] = _deserialize_input_argument(kwargs[param_name], param_type, param_name)\\n  File \"/azureml-envs/azureml_20a8278aa8b20dd48cc50f56a6d2586c/lib/python3.6/site-packages/inference_schema/schema_decorators.py\", line 285, in _deserialize_input_argument\\n    input_data = param_type.deserialize_input(input_data)\\n  File \"/azureml-envs/azureml_20a8278aa8b20dd48cc50f56a6d2586c/lib/python3.6/site-packages/inference_schema/parameter_types/pandas_parameter_type.py\", line 79, in deserialize_input\\n    data_frame.shape[dim], dim, expected_shape[dim]))\\nValueError: Invalid input data frame: data frame has size 10 on dimension #1, while expected value is 11\\n\\nDuring handling of the above exception, another exception occurred:\\n\\nTraceback (most recent call last):\\n  File \"/azureml-envs/azureml_20a8278aa8b20dd48cc50f56a6d2586c/lib/python3.6/site-packages/flask/app.py\", line 1832, in full_dispatch_request\\n    rv = self.dispatch_request()\\n  File \"/azureml-envs/azureml_20a8278aa8b20dd48cc50f56a6d2586c/lib/python3.6/site-packages/flask/app.py\", line 1818, in dispatch_request\\n    return self.view_functions[rule.endpoint](**req.view_args)\\n  File \"/var/azureml-server/synchronous/routes.py\", line 43, in score_realtime\\n    return run_scoring(service_input, request.headers, request.environ.get(\\'REQUEST_ID\\', \\'00000000-0000-0000-0000-000000000000\\'))\\n  File \"/var/azureml-server/synchronous/routes.py\", line 77, in run_scoring\\n    raise RunFunctionException(str(exc))\\nrun_function_exception.RunFunctionException\\n\\n2021-02-13 16:14:02,271 | root | INFO | 500\\n127.0.0.1 - - [13/Feb/2021:16:14:02 +0000] \"POST /score HTTP/1.0\" 500 92 \"-\" \"python-requests/2.25.1\"\\nException in worker process\\nTraceback (most recent call last):\\n  File \"/azureml-envs/azureml_20a8278aa8b20dd48cc50f56a6d2586c/lib/python3.6/site-packages/gunicorn/arbiter.py\", line 583, in spawn_worker\\n    worker.init_process()\\n  File \"/azureml-envs/azureml_20a8278aa8b20dd48cc50f56a6d2586c/lib/python3.6/site-packages/gunicorn/workers/base.py\", line 134, in init_process\\n    self.run()\\n  File \"/azureml-envs/azureml_20a8278aa8b20dd48cc50f56a6d2586c/lib/python3.6/site-packages/gunicorn/workers/sync.py\", line 124, in run\\n    self.run_for_one(timeout)\\n  File \"/azureml-envs/azureml_20a8278aa8b20dd48cc50f56a6d2586c/lib/python3.6/site-packages/gunicorn/workers/sync.py\", line 83, in run_for_one\\n    self.wait(timeout)\\n  File \"/azureml-envs/azureml_20a8278aa8b20dd48cc50f56a6d2586c/lib/python3.6/site-packages/gunicorn/workers/sync.py\", line 35, in wait\\n    ret = select.select(self.wait_fds, [], [], timeout)\\n  File \"/var/azureml-server/routes_common.py\", line 162, in alarm_handler\\n    raise TimeoutException(error_message)\\ntimeout_exception.TimeoutException\\nWorker exiting (pid: 42)\\nworker timeout is set to 300\\nBooting worker with pid: 72\\nSPARK_HOME not set. Skipping PySpark Initialization.\\nInitializing logger\\n2021-02-13 16:15:03,555 | root | INFO | Starting up app insights client\\n2021-02-13 16:15:03,555 | root | INFO | Starting up request id generator\\n2021-02-13 16:15:03,555 | root | INFO | Starting up app insight hooks\\n2021-02-13 16:15:03,555 | root | INFO | Invoking user\\'s init function\\n2021-02-13 16:15:05,443 | root | INFO | Users\\'s init has completed successfully\\n2021-02-13 16:15:05,444 | root | INFO | Skipping middleware: dbg_model_info as it\\'s not enabled.\\n2021-02-13 16:15:05,444 | root | INFO | Skipping middleware: dbg_resource_usage as it\\'s not enabled.\\n2021-02-13 16:15:05,446 | root | INFO | Scoring timeout is found from os.environ: 60000 ms\\n2021-02-13 16:15:08,836 | root | INFO | Validation Request Content-Type\\n2021-02-13 16:15:08,837 | root | INFO | Scoring Timer is set to 60.0 seconds\\n2021-02-13 16:15:08,851 | root | ERROR | Encountered Exception: Traceback (most recent call last):\\n  File \"/var/azureml-server/synchronous/routes.py\", line 64, in run_scoring\\n    response = invoke_user_with_timer(service_input, request_headers)\\n  File \"/var/azureml-server/synchronous/routes.py\", line 97, in invoke_user_with_timer\\n    result = user_main.run(**params)\\n  File \"/azureml-envs/azureml_20a8278aa8b20dd48cc50f56a6d2586c/lib/python3.6/site-packages/wrapt/wrappers.py\", line 564, in __call__\\n    args, kwargs)\\n  File \"/azureml-envs/azureml_20a8278aa8b20dd48cc50f56a6d2586c/lib/python3.6/site-packages/inference_schema/schema_decorators.py\", line 57, in decorator_input\\n    kwargs[param_name] = _deserialize_input_argument(kwargs[param_name], param_type, param_name)\\n  File \"/azureml-envs/azureml_20a8278aa8b20dd48cc50f56a6d2586c/lib/python3.6/site-packages/inference_schema/schema_decorators.py\", line 285, in _deserialize_input_argument\\n    input_data = param_type.deserialize_input(input_data)\\n  File \"/azureml-envs/azureml_20a8278aa8b20dd48cc50f56a6d2586c/lib/python3.6/site-packages/inference_schema/parameter_types/pandas_parameter_type.py\", line 79, in deserialize_input\\n    data_frame.shape[dim], dim, expected_shape[dim]))\\nValueError: Invalid input data frame: data frame has size 10 on dimension #1, while expected value is 11\\n\\nDuring handling of the above exception, another exception occurred:\\n\\nTraceback (most recent call last):\\n  File \"/azureml-envs/azureml_20a8278aa8b20dd48cc50f56a6d2586c/lib/python3.6/site-packages/flask/app.py\", line 1832, in full_dispatch_request\\n    rv = self.dispatch_request()\\n  File \"/azureml-envs/azureml_20a8278aa8b20dd48cc50f56a6d2586c/lib/python3.6/site-packages/flask/app.py\", line 1818, in dispatch_request\\n    return self.view_functions[rule.endpoint](**req.view_args)\\n  File \"/var/azureml-server/synchronous/routes.py\", line 43, in score_realtime\\n    return run_scoring(service_input, request.headers, request.environ.get(\\'REQUEST_ID\\', \\'00000000-0000-0000-0000-000000000000\\'))\\n  File \"/var/azureml-server/synchronous/routes.py\", line 77, in run_scoring\\n    raise RunFunctionException(str(exc))\\nrun_function_exception.RunFunctionException\\n\\n2021-02-13 16:15:08,852 | root | INFO | 500\\n127.0.0.1 - - [13/Feb/2021:16:15:08 +0000] \"POST /score HTTP/1.0\" 500 92 \"-\" \"python-requests/2.25.1\"\\nException in worker process\\nTraceback (most recent call last):\\n  File \"/azureml-envs/azureml_20a8278aa8b20dd48cc50f56a6d2586c/lib/python3.6/site-packages/gunicorn/arbiter.py\", line 583, in spawn_worker\\n    worker.init_process()\\n  File \"/azureml-envs/azureml_20a8278aa8b20dd48cc50f56a6d2586c/lib/python3.6/site-packages/gunicorn/workers/base.py\", line 134, in init_process\\n    self.run()\\n  File \"/azureml-envs/azureml_20a8278aa8b20dd48cc50f56a6d2586c/lib/python3.6/site-packages/gunicorn/workers/sync.py\", line 124, in run\\n    self.run_for_one(timeout)\\n  File \"/azureml-envs/azureml_20a8278aa8b20dd48cc50f56a6d2586c/lib/python3.6/site-packages/gunicorn/workers/sync.py\", line 83, in run_for_one\\n    self.wait(timeout)\\n  File \"/azureml-envs/azureml_20a8278aa8b20dd48cc50f56a6d2586c/lib/python3.6/site-packages/gunicorn/workers/sync.py\", line 35, in wait\\n    ret = select.select(self.wait_fds, [], [], timeout)\\n  File \"/var/azureml-server/routes_common.py\", line 162, in alarm_handler\\n    raise TimeoutException(error_message)\\ntimeout_exception.TimeoutException\\nWorker exiting (pid: 72)\\nworker timeout is set to 300\\nBooting worker with pid: 92\\nSPARK_HOME not set. Skipping PySpark Initialization.\\nInitializing logger\\n2021-02-13 16:16:09,967 | root | INFO | Starting up app insights client\\n2021-02-13 16:16:09,967 | root | INFO | Starting up request id generator\\n2021-02-13 16:16:09,968 | root | INFO | Starting up app insight hooks\\n2021-02-13 16:16:09,968 | root | INFO | Invoking user\\'s init function\\n2021-02-13 16:16:11,844 | root | INFO | Users\\'s init has completed successfully\\n2021-02-13 16:16:11,845 | root | INFO | Skipping middleware: dbg_model_info as it\\'s not enabled.\\n2021-02-13 16:16:11,846 | root | INFO | Skipping middleware: dbg_resource_usage as it\\'s not enabled.\\n2021-02-13 16:16:11,847 | root | INFO | Scoring timeout is found from os.environ: 60000 ms\\n2021-02-13 17:07:13,309 | root | INFO | Validation Request Content-Type\\n2021-02-13 17:07:13,310 | root | INFO | Scoring Timer is set to 60.0 seconds\\n2021-02-13 17:07:13,365 | root | INFO | 200\\n127.0.0.1 - - [13/Feb/2021:17:07:13 +0000] \"POST /score HTTP/1.0\" 200 22 \"-\" \"python-requests/2.25.1\"\\n2021-02-13 17:08:16,169 | root | INFO | Validation Request Content-Type\\n2021-02-13 17:08:16,169 | root | INFO | Scoring Timer is set to 60.0 seconds\\n2021-02-13 17:08:16,224 | root | INFO | 200\\n127.0.0.1 - - [13/Feb/2021:17:08:16 +0000] \"POST /score HTTP/1.0\" 200 25 \"-\" \"python-requests/2.25.1\"\\n2021-02-13 17:09:18,837 | root | INFO | Validation Request Content-Type\\n2021-02-13 17:09:18,837 | root | INFO | Scoring Timer is set to 60.0 seconds\\n2021-02-13 17:09:18,890 | root | INFO | 200\\n127.0.0.1 - - [13/Feb/2021:17:09:18 +0000] \"POST /score HTTP/1.0\" 200 25 \"-\" \"python-requests/2.25.1\"\\n'"
      ]
     },
     "execution_count": 50,
     "metadata": {},
     "output_type": "execute_result"
    }
   ],
   "source": [
    "service.get_logs(())"
   ]
  },
  {
   "cell_type": "markdown",
   "metadata": {
    "collapsed": true,
    "gather": {
     "logged": 1598432765711
    },
    "jupyter": {
     "outputs_hidden": false,
     "source_hidden": false
    },
    "nteract": {
     "transient": {
      "deleting": false
     }
    }
   },
   "source": [
    "TODO: In the cell below, print the logs of the web service and delete the service"
   ]
  },
  {
   "cell_type": "code",
   "execution_count": null,
   "metadata": {
    "jupyter": {
     "outputs_hidden": false,
     "source_hidden": false
    },
    "nteract": {
     "transient": {
      "deleting": false
     }
    }
   },
   "outputs": [],
   "source": [
    "service.delete()"
   ]
  }
 ],
 "metadata": {
  "kernel_info": {
   "name": "python3-azureml"
  },
  "kernelspec": {
   "display_name": "Python 3",
   "language": "python",
   "name": "python3"
  },
  "language_info": {
   "codemirror_mode": {
    "name": "ipython",
    "version": 3
   },
   "file_extension": ".py",
   "mimetype": "text/x-python",
   "name": "python",
   "nbconvert_exporter": "python",
   "pygments_lexer": "ipython3",
   "version": "3.6.9"
  },
  "nteract": {
   "version": "nteract-front-end@1.0.0"
  }
 },
 "nbformat": 4,
 "nbformat_minor": 2
}
